{
 "cells": [
  {
   "cell_type": "code",
   "execution_count": 1,
   "metadata": {},
   "outputs": [],
   "source": [
    "%autoawait asyncio"
   ]
  },
  {
   "cell_type": "code",
   "execution_count": 15,
   "metadata": {},
   "outputs": [],
   "source": [
    "import httpx\n",
    "import asyncio\n",
    "import aiohttp\n",
    "import nest_asyncio\n",
    "import requests\n",
    "\n",
    "nest_asyncio.apply()"
   ]
  },
  {
   "cell_type": "code",
   "execution_count": 11,
   "metadata": {},
   "outputs": [],
   "source": [
    "def get_conv_list(host='10.64.136.2:1003'):\n",
    "    url = f\"http://{host}/llm/chat/list\"\n",
    "    payload = ''\n",
    "    headers = {\n",
    "        'Content-Type': 'application/json',\n",
    "        'Lang': 'en'\n",
    "    }\n",
    "    resp = requests.request(\"POST\", url, headers=headers, data=payload)\n",
    "    return resp.json()"
   ]
  },
  {
   "cell_type": "code",
   "execution_count": 13,
   "metadata": {},
   "outputs": [],
   "source": [
    "conv_list = get_conv_list()"
   ]
  },
  {
   "cell_type": "code",
   "execution_count": 31,
   "metadata": {},
   "outputs": [],
   "source": [
    "async def gen_code(conv_id, host='10.64.136.2:1003'):\n",
    "    url = f\"http://{host}/llm/gen_code/{conv_id}\"\n",
    "    async with httpx.AsyncClient(timeout=httpx.Timeout(None)) as client:\n",
    "        data = {\"data\": \"Confirmed, please generate the python protocol script.\"}\n",
    "        async with client.stream(\"POST\", url, json=data) as response:\n",
    "            async for chunk in response.aiter_text():\n",
    "                pass\n",
    "    return True"
   ]
  },
  {
   "cell_type": "code",
   "execution_count": 32,
   "metadata": {},
   "outputs": [],
   "source": [
    "async def handle_request(semaphore, conv_id):\n",
    "    async with semaphore:\n",
    "        result = await gen_code(conv_id)\n",
    "        return result"
   ]
  },
  {
   "cell_type": "code",
   "execution_count": 33,
   "metadata": {},
   "outputs": [],
   "source": [
    "async def main(conv_list):\n",
    "    semaphore = asyncio.Semaphore(4)  # Limit to 10 concurrent requests\n",
    "    async with aiohttp.ClientSession() as session:\n",
    "        tasks = [handle_request(semaphore, conv['id']) for conv in conv_list]\n",
    "        results = await asyncio.gather(*tasks)\n",
    "    return results"
   ]
  },
  {
   "cell_type": "code",
   "execution_count": 1,
   "metadata": {},
   "outputs": [],
   "source": [
    "# results = asyncio.run(main(cmd))"
   ]
  },
  {
   "cell_type": "code",
   "execution_count": null,
   "metadata": {},
   "outputs": [],
   "source": []
  }
 ],
 "metadata": {
  "kernelspec": {
   "display_name": "base",
   "language": "python",
   "name": "python3"
  },
  "language_info": {
   "codemirror_mode": {
    "name": "ipython",
    "version": 3
   },
   "file_extension": ".py",
   "mimetype": "text/x-python",
   "name": "python",
   "nbconvert_exporter": "python",
   "pygments_lexer": "ipython3",
   "version": "3.11.5"
  }
 },
 "nbformat": 4,
 "nbformat_minor": 2
}

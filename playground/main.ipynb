{
 "cells": [
  {
   "cell_type": "code",
   "execution_count": 1,
   "metadata": {},
   "outputs": [],
   "source": [
    "import os\n",
    "import json\n",
    "import tempfile\n",
    "import subprocess"
   ]
  },
  {
   "cell_type": "code",
   "execution_count": 2,
   "metadata": {},
   "outputs": [],
   "source": [
    "template = '''def get_values(*names):\n",
    "    import json\n",
    "    _all_values = json.loads(\"\"\"{data}\"\"\")\n",
    "    return [_all_values[n] for n in names]\n",
    "'''"
   ]
  },
  {
   "cell_type": "code",
   "execution_count": 3,
   "metadata": {},
   "outputs": [
    {
     "name": "stdout",
     "output_type": "stream",
     "text": [
      "['python', '-m', 'opentrons.cli', 'analyze', '--human-json-output=../datasets/74b303.ot2.apiv2.json', '/Users/winghochan/Desktop/workspace/Protocols/protocols/74b303/tmprk6ncuhx.py', '../protocols/74b303/labware']\n",
      "['python', '-m', 'opentrons.cli', 'analyze', '--human-json-output=../datasets/04eeb1-part-6.ot2.apiv2.json', '/Users/winghochan/Desktop/workspace/Protocols/protocols/04eeb1-part-6/tmp6x1ns0q9.py', '../protocols/04eeb1-part-6/labware']\n",
      "Command '['python', '-m', 'opentrons.cli', 'analyze', '--human-json-output=../datasets/04eeb1-part-6.ot2.apiv2.json', '/Users/winghochan/Desktop/workspace/Protocols/protocols/04eeb1-part-6/tmp6x1ns0q9.py', '../protocols/04eeb1-part-6/labware']' returned non-zero exit status 2.\n",
      "Command failed with return code: 2\n",
      "Error output: /Users/winghochan/.opentrons/robot_settings.json not found. Loading defaults\n",
      "Usage: python -m opentrons.cli analyze [OPTIONS] FILES...\n",
      "Try 'python -m opentrons.cli analyze --help' for help.\n",
      "\n",
      "Error: Invalid value for 'FILES...': Path '../protocols/04eeb1-part-6/labware' does not exist.\n",
      "\n"
     ]
    }
   ],
   "source": [
    "for subdir, _, files in os.walk('../protocols'):\n",
    "    \n",
    "    py_file = [file for file in files if file.endswith('.py')]\n",
    "    if not py_file: continue\n",
    "    if len(py_file) != 1: continue\n",
    "    py_file = py_file[0]\n",
    "    save_file_name = py_file[:-3]\n",
    "    \n",
    "    # handle fields.json\n",
    "    with open(os.path.join(subdir, 'fields.json'), 'r') as f:\n",
    "        s = f.read()\n",
    "        data = json.loads(s)\n",
    "        data = {i['name']: (i['default'] if i['type'] != 'dropDown' else i['options'][0]['value']) for i in data}\n",
    "        data = json.dumps(data)\n",
    "        t = template.replace('{data}', data)\n",
    "    \n",
    "    # handle .py\n",
    "    with open(os.path.join(subdir, py_file), 'r') as f:\n",
    "        script_contents = f.readlines()\n",
    "        \n",
    "        # Find the index of the line where 'metadata' is declared\n",
    "        metadata_index = next(i for i, line in enumerate(script_contents) if line.strip().startswith('metadata'))\n",
    "        \n",
    "        # Insert the filled template before this line\n",
    "        script_contents.insert(metadata_index, t + \"\\n\")\n",
    "        \n",
    "        with tempfile.NamedTemporaryFile(delete=False, mode='w', suffix='.py' as temp_file:\n",
    "            temp_file.writelines(script_contents)\n",
    "            temp_filename = temp_file.name  # Store the name if needed for further processing\n",
    "        \n",
    "        command = [\"python\", \"-m\", \"opentrons.cli\", \"analyze\", \n",
    "                   f\"--human-json-output=../datasets/{save_file_name}.json\", \n",
    "                   f\"{temp_filename}\", \n",
    "                   f\"{subdir}/labware\"]\n",
    "        try:\n",
    "            print(command)\n",
    "            result = subprocess.run(command, capture_output=True, text=True, check=True)\n",
    "        except Exception as e:\n",
    "            print(e)\n",
    "            print(\"Command failed with return code:\", e.returncode)\n",
    "            print(\"Error output:\", e.stderr)\n",
    "            break\n",
    "\n",
    "    # break\n",
    "\n",
    "    # has_valid_file = any(file.endswith('.py') or file.endswith('.md') for file in files)\n",
    "    # if not has_valid_file:\n",
    "    #     continue\n",
    "    \n",
    "    # py_file = [file for file in files if file.endswith('.py')][0]\n",
    "    \n",
    "    # command = [\"python\", \"-m\", \"opentrons.cli\", \"analyze\", \"--human-json-output=../datasets/demo-analyse.json\", f\"{subdir}/{py_file}\"]\n",
    "    \n",
    "    # try:\n",
    "    #     print(subdir)\n",
    "    #     result = subprocess.run(command, capture_output=True, text=True, check=True)\n",
    "    # except Exception as e:\n",
    "    #     print(e)\n",
    "    #     print(\"Command failed with return code:\", e.returncode)\n",
    "    #     print(\"Error output:\", e.stderr)\n",
    "    #     break\n",
    "    \n",
    "    # break\n",
    "    \n",
    "    \n",
    "    # # Look for a Markdown (.md) file in the current subdirectory\n",
    "    # md_files = [file for file in files if file.endswith('.md')]\n",
    "    \n",
    "    # for md_file in md_files:\n",
    "    #     md_file_path = os.path.join(subdir, md_file)\n",
    "\n",
    "    #     # Read and print the content of the Markdown file\n",
    "    #     with open(md_file_path, 'r') as f:\n",
    "    #         content = f.read()"
   ]
  },
  {
   "cell_type": "code",
   "execution_count": null,
   "metadata": {},
   "outputs": [],
   "source": []
  }
 ],
 "metadata": {
  "kernelspec": {
   "display_name": "base",
   "language": "python",
   "name": "python3"
  },
  "language_info": {
   "codemirror_mode": {
    "name": "ipython",
    "version": 3
   },
   "file_extension": ".py",
   "mimetype": "text/x-python",
   "name": "python",
   "nbconvert_exporter": "python",
   "pygments_lexer": "ipython3",
   "version": "3.10.14"
  }
 },
 "nbformat": 4,
 "nbformat_minor": 2
}

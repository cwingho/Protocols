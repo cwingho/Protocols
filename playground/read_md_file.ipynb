{
 "cells": [
  {
   "cell_type": "code",
   "execution_count": 1,
   "metadata": {},
   "outputs": [],
   "source": [
    "%autoawait asyncio"
   ]
  },
  {
   "cell_type": "code",
   "execution_count": 17,
   "metadata": {},
   "outputs": [],
   "source": [
    "import re\n",
    "import os\n",
    "import glob\n",
    "import requests\n",
    "import json\n",
    "import httpx\n",
    "import asyncio\n",
    "import nest_asyncio\n",
    "\n",
    "nest_asyncio.apply()"
   ]
  },
  {
   "cell_type": "code",
   "execution_count": 18,
   "metadata": {},
   "outputs": [],
   "source": [
    "def remove_urls(text):\n",
    "    # Pattern to match Markdown links and remove the URL part\n",
    "    markdown_link_pattern = r'\\[([^\\]]+)\\]\\(\\S+\\)'\n",
    "    return re.sub(markdown_link_pattern, r'[\\1]', text)\n",
    "\n",
    "def filter_sections(lines, sections_keywords):\n",
    "    in_section = False\n",
    "    filtered_lines = []\n",
    "\n",
    "    for line in lines:\n",
    "        # Check if the line is a header\n",
    "        header_match = re.match(r'^(#+)\\s*(.*)', line)\n",
    "        if header_match:\n",
    "            current_header_level = len(header_match.group(1))\n",
    "            header_text = header_match.group(2).strip()\n",
    "            # Check if the header matches any of the keywords\n",
    "            if any(keyword in header_text for keyword in sections_keywords):\n",
    "                in_section = True\n",
    "                section_to_drop_level = current_header_level\n",
    "                continue\n",
    "            # If we are in a section to drop and encounter a header of the same or higher level, stop dropping\n",
    "            if in_section and current_header_level <= section_to_drop_level:\n",
    "                in_section = False\n",
    "\n",
    "        # If not in a section to drop, add the line to filtered_lines\n",
    "        if not in_section:\n",
    "            filtered_lines.append(line)\n",
    "\n",
    "    return filtered_lines\n",
    "\n",
    "def preprocess(dir):\n",
    "    # Read the content of the Markdown file\n",
    "    with open(dir, \"r\") as file:\n",
    "        lines = file.readlines()\n",
    "\n",
    "    # Define the keywords for sections to drop content from\n",
    "    sections_to_drop = [\"Process\", \"Additional Notes\", \"Author\", \"Internal\", \"Categories\", 'Deck Setup', 'Reagent Setup','Links']\n",
    "\n",
    "    # Filter the content inside the specified sections\n",
    "    filtered_lines = filter_sections(lines, sections_to_drop)\n",
    "\n",
    "    # Remove URLs from the filtered content\n",
    "    filtered_lines = [remove_urls(line) for line in filtered_lines]\n",
    "\n",
    "    # Join and print the filtered content\n",
    "    return ''.join(filtered_lines).replace('\\n\\n','\\n')"
   ]
  },
  {
   "cell_type": "code",
   "execution_count": 19,
   "metadata": {},
   "outputs": [],
   "source": [
    "cmd = []\n",
    "for dir in glob.glob('../protocols/*/'):\n",
    "    readme_path = os.path.join(dir, 'README.md')\n",
    "    if os.path.isfile(readme_path):\n",
    "        cmd.append(preprocess(readme_path))"
   ]
  },
  {
   "cell_type": "code",
   "execution_count": 30,
   "metadata": {},
   "outputs": [],
   "source": [
    "async def get_conv_id(session):\n",
    "    url = \"http://localhost:8000/llm/chat/new\"\n",
    "    headers = {\n",
    "        'Content-Type': 'application/json',\n",
    "        'Lang': 'en'\n",
    "    }\n",
    "\n",
    "    async with session.post(url, headers=headers, json={}) as response:\n",
    "        response_json = await response.json()\n",
    "        return response_json['data']"
   ]
  },
  {
   "cell_type": "code",
   "execution_count": 31,
   "metadata": {},
   "outputs": [],
   "source": [
    "async def gen_cmd(session, conv_id, cmd):\n",
    "    url = f\"http://localhost:8000/llm/gen_cmd/{conv_id}\"\n",
    "    timeout = httpx.Timeout(15.0, read=None)  # Set a higher read timeout\n",
    "\n",
    "    async with httpx.AsyncClient(timeout=timeout) as client:\n",
    "        data = {\"data\": cmd}\n",
    "        async with client.stream(\"POST\", url, json=data) as response:\n",
    "            async for chunk in response.aiter_text():\n",
    "                pass\n",
    "    return True"
   ]
  },
  {
   "cell_type": "code",
   "execution_count": 32,
   "metadata": {},
   "outputs": [],
   "source": [
    "async def handle_request(semaphore, session, cmd):\n",
    "    async with semaphore:\n",
    "        conv_id = await get_conv_id(session)\n",
    "        result = await gen_cmd(session, conv_id, cmd)\n",
    "        return result"
   ]
  },
  {
   "cell_type": "code",
   "execution_count": 33,
   "metadata": {},
   "outputs": [],
   "source": [
    "async def main(commands):\n",
    "    semaphore = asyncio.Semaphore(10)  # Limit to 10 concurrent requests\n",
    "    async with aiohttp.ClientSession() as session:\n",
    "        tasks = [handle_request(semaphore, session, cmd) for cmd in commands]\n",
    "        results = await asyncio.gather(*tasks)\n",
    "    return results"
   ]
  },
  {
   "cell_type": "code",
   "execution_count": 34,
   "metadata": {},
   "outputs": [
    {
     "ename": "KeyboardInterrupt",
     "evalue": "",
     "output_type": "error",
     "traceback": [
      "\u001b[0;31m---------------------------------------------------------------------------\u001b[0m",
      "\u001b[0;31mKeyboardInterrupt\u001b[0m                         Traceback (most recent call last)",
      "Cell \u001b[0;32mIn[34], line 1\u001b[0m\n\u001b[0;32m----> 1\u001b[0m results \u001b[38;5;241m=\u001b[39m asyncio\u001b[38;5;241m.\u001b[39mrun(main(cmd))\n",
      "File \u001b[0;32m~/anaconda3/lib/python3.11/site-packages/nest_asyncio.py:35\u001b[0m, in \u001b[0;36m_patch_asyncio.<locals>.run\u001b[0;34m(main, debug)\u001b[0m\n\u001b[1;32m     33\u001b[0m task \u001b[38;5;241m=\u001b[39m asyncio\u001b[38;5;241m.\u001b[39mensure_future(main)\n\u001b[1;32m     34\u001b[0m \u001b[38;5;28;01mtry\u001b[39;00m:\n\u001b[0;32m---> 35\u001b[0m     \u001b[38;5;28;01mreturn\u001b[39;00m loop\u001b[38;5;241m.\u001b[39mrun_until_complete(task)\n\u001b[1;32m     36\u001b[0m \u001b[38;5;28;01mfinally\u001b[39;00m:\n\u001b[1;32m     37\u001b[0m     \u001b[38;5;28;01mif\u001b[39;00m \u001b[38;5;129;01mnot\u001b[39;00m task\u001b[38;5;241m.\u001b[39mdone():\n",
      "File \u001b[0;32m~/anaconda3/lib/python3.11/site-packages/nest_asyncio.py:84\u001b[0m, in \u001b[0;36m_patch_loop.<locals>.run_until_complete\u001b[0;34m(self, future)\u001b[0m\n\u001b[1;32m     82\u001b[0m     f\u001b[38;5;241m.\u001b[39m_log_destroy_pending \u001b[38;5;241m=\u001b[39m \u001b[38;5;28;01mFalse\u001b[39;00m\n\u001b[1;32m     83\u001b[0m \u001b[38;5;28;01mwhile\u001b[39;00m \u001b[38;5;129;01mnot\u001b[39;00m f\u001b[38;5;241m.\u001b[39mdone():\n\u001b[0;32m---> 84\u001b[0m     \u001b[38;5;28mself\u001b[39m\u001b[38;5;241m.\u001b[39m_run_once()\n\u001b[1;32m     85\u001b[0m     \u001b[38;5;28;01mif\u001b[39;00m \u001b[38;5;28mself\u001b[39m\u001b[38;5;241m.\u001b[39m_stopping:\n\u001b[1;32m     86\u001b[0m         \u001b[38;5;28;01mbreak\u001b[39;00m\n",
      "File \u001b[0;32m~/anaconda3/lib/python3.11/site-packages/nest_asyncio.py:107\u001b[0m, in \u001b[0;36m_patch_loop.<locals>._run_once\u001b[0;34m(self)\u001b[0m\n\u001b[1;32m    100\u001b[0m     heappop(scheduled)\n\u001b[1;32m    102\u001b[0m timeout \u001b[38;5;241m=\u001b[39m (\n\u001b[1;32m    103\u001b[0m     \u001b[38;5;241m0\u001b[39m \u001b[38;5;28;01mif\u001b[39;00m ready \u001b[38;5;129;01mor\u001b[39;00m \u001b[38;5;28mself\u001b[39m\u001b[38;5;241m.\u001b[39m_stopping\n\u001b[1;32m    104\u001b[0m     \u001b[38;5;28;01melse\u001b[39;00m \u001b[38;5;28mmin\u001b[39m(\u001b[38;5;28mmax\u001b[39m(\n\u001b[1;32m    105\u001b[0m         scheduled[\u001b[38;5;241m0\u001b[39m]\u001b[38;5;241m.\u001b[39m_when \u001b[38;5;241m-\u001b[39m \u001b[38;5;28mself\u001b[39m\u001b[38;5;241m.\u001b[39mtime(), \u001b[38;5;241m0\u001b[39m), \u001b[38;5;241m86400\u001b[39m) \u001b[38;5;28;01mif\u001b[39;00m scheduled\n\u001b[1;32m    106\u001b[0m     \u001b[38;5;28;01melse\u001b[39;00m \u001b[38;5;28;01mNone\u001b[39;00m)\n\u001b[0;32m--> 107\u001b[0m event_list \u001b[38;5;241m=\u001b[39m \u001b[38;5;28mself\u001b[39m\u001b[38;5;241m.\u001b[39m_selector\u001b[38;5;241m.\u001b[39mselect(timeout)\n\u001b[1;32m    108\u001b[0m \u001b[38;5;28mself\u001b[39m\u001b[38;5;241m.\u001b[39m_process_events(event_list)\n\u001b[1;32m    110\u001b[0m end_time \u001b[38;5;241m=\u001b[39m \u001b[38;5;28mself\u001b[39m\u001b[38;5;241m.\u001b[39mtime() \u001b[38;5;241m+\u001b[39m \u001b[38;5;28mself\u001b[39m\u001b[38;5;241m.\u001b[39m_clock_resolution\n",
      "File \u001b[0;32m~/anaconda3/lib/python3.11/selectors.py:468\u001b[0m, in \u001b[0;36mEpollSelector.select\u001b[0;34m(self, timeout)\u001b[0m\n\u001b[1;32m    466\u001b[0m ready \u001b[38;5;241m=\u001b[39m []\n\u001b[1;32m    467\u001b[0m \u001b[38;5;28;01mtry\u001b[39;00m:\n\u001b[0;32m--> 468\u001b[0m     fd_event_list \u001b[38;5;241m=\u001b[39m \u001b[38;5;28mself\u001b[39m\u001b[38;5;241m.\u001b[39m_selector\u001b[38;5;241m.\u001b[39mpoll(timeout, max_ev)\n\u001b[1;32m    469\u001b[0m \u001b[38;5;28;01mexcept\u001b[39;00m \u001b[38;5;167;01mInterruptedError\u001b[39;00m:\n\u001b[1;32m    470\u001b[0m     \u001b[38;5;28;01mreturn\u001b[39;00m ready\n",
      "\u001b[0;31mKeyboardInterrupt\u001b[0m: "
     ]
    }
   ],
   "source": [
    "results = asyncio.run(main(cmd))"
   ]
  },
  {
   "cell_type": "code",
   "execution_count": null,
   "metadata": {},
   "outputs": [],
   "source": []
  }
 ],
 "metadata": {
  "kernelspec": {
   "display_name": "base",
   "language": "python",
   "name": "python3"
  },
  "language_info": {
   "codemirror_mode": {
    "name": "ipython",
    "version": 3
   },
   "file_extension": ".py",
   "mimetype": "text/x-python",
   "name": "python",
   "nbconvert_exporter": "python",
   "pygments_lexer": "ipython3",
   "version": "3.11.5"
  }
 },
 "nbformat": 4,
 "nbformat_minor": 2
}

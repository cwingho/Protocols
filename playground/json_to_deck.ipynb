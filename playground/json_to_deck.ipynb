{
 "cells": [
  {
   "cell_type": "code",
   "execution_count": 77,
   "metadata": {},
   "outputs": [],
   "source": [
    "import os\n",
    "import json"
   ]
  },
  {
   "cell_type": "code",
   "execution_count": 78,
   "metadata": {},
   "outputs": [],
   "source": [
    "def sort_key(k):\n",
    "    # Check if the key is a number\n",
    "    if k.isdigit():\n",
    "        return (0, int(k))  # Sort numeric keys by their integer value\n",
    "    else:\n",
    "        return (1, k)       # Sort string keys alphabetically\n",
    "    \n",
    "def get_module_name(id, m):\n",
    "    for i in m:\n",
    "        if i['id'] == id: return i['model']\n",
    "    return None"
   ]
  },
  {
   "cell_type": "code",
   "execution_count": 80,
   "metadata": {},
   "outputs": [],
   "source": [
    "folder_path = '../datasets/json'\n",
    "for root, dirs, files in os.walk(folder_path):\n",
    "    for file in files:\n",
    "        file_path = os.path.join(root, file)\n",
    "        deck = {}\n",
    "        \n",
    "        with open(file_path, 'r') as f:\n",
    "            content = f.read()\n",
    "            data = json.loads(content)\n",
    "            lw = data['labware']\n",
    "            m = data['modules']\n",
    "        \n",
    "        for i in m:\n",
    "            deck[i['location']['slotName']] = i['model'] \n",
    "\n",
    "        for i in lw:\n",
    "            loc = i['location']\n",
    "            \n",
    "            if 'slotName' in loc:\n",
    "                deck[loc['slotName']] = i['loadName']\n",
    "            elif 'moduleId' in loc:\n",
    "                module_name = get_module_name(loc['moduleId'], m)\n",
    "                deck[module_name] = i['loadName']\n",
    "        \n",
    "        deck = {k: deck[k] for k in sorted(deck.keys(), key=sort_key)}\n",
    "        \n",
    "        with open(f'../datasets/deck/{file}', 'w') as f:\n",
    "            f.write(json.dumps(deck))"
   ]
  },
  {
   "cell_type": "code",
   "execution_count": null,
   "metadata": {},
   "outputs": [],
   "source": []
  }
 ],
 "metadata": {
  "kernelspec": {
   "display_name": "base",
   "language": "python",
   "name": "python3"
  },
  "language_info": {
   "codemirror_mode": {
    "name": "ipython",
    "version": 3
   },
   "file_extension": ".py",
   "mimetype": "text/x-python",
   "name": "python",
   "nbconvert_exporter": "python",
   "pygments_lexer": "ipython3",
   "version": "3.10.14"
  }
 },
 "nbformat": 4,
 "nbformat_minor": 2
}

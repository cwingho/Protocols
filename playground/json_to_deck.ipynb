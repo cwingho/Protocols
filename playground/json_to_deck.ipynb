{
 "cells": [
  {
   "cell_type": "code",
   "execution_count": 62,
   "metadata": {},
   "outputs": [],
   "source": [
    "import os\n",
    "import json"
   ]
  },
  {
   "cell_type": "code",
   "execution_count": 63,
   "metadata": {},
   "outputs": [],
   "source": [
    "def sort_key(k):\n",
    "    # Check if the key is a number\n",
    "    if k.isdigit():\n",
    "        return (0, int(k))  # Sort numeric keys by their integer value\n",
    "    else:\n",
    "        return (1, k)       # Sort string keys alphabetically\n",
    "    \n",
    "def get_module_name(id, m):\n",
    "    for i in m:\n",
    "        if i['id'] == id: return i['model']\n",
    "    return None"
   ]
  },
  {
   "cell_type": "code",
   "execution_count": 66,
   "metadata": {},
   "outputs": [
    {
     "name": "stdout",
     "output_type": "stream",
     "text": [
      "../datasets/json/tc.ot2.apiv2.json {'12': 'opentrons_1_trash_1100ml_fixed'}\n",
      "../datasets/json/zymo-quick-96.ot2.apiv2.json {'1': 'nest_12_reservoir_15ml', '2': 'opentrons_96_tiprack_300ul', '3': 'nest_96_wellplate_100ul_pcr_full_skirt', '4': 'nest_12_reservoir_15ml', '5': 'opentrons_96_tiprack_300ul', '6': 'opentrons_96_tiprack_300ul', '7': 'magneticModuleV2', '8': 'opentrons_96_tiprack_300ul', '9': 'opentrons_96_tiprack_300ul', '10': 'nest_1_reservoir_195ml', '11': 'nest_1_reservoir_195ml', '12': 'opentrons_1_trash_1100ml_fixed', 'magneticModuleV2': 'vwr_96_wellplate_1000ul'}\n",
      "../datasets/json/ZooMS_Protocol.ot2.apiv2.json {'1': 'opentrons_96_tiprack_300ul', '2': 'nest_96_wellplate_200ul_flat', '3': 'opentrons_96_tiprack_1000ul', '5': 'opentrons_24_tuberack_eppendorf_1.5ml_safelock_snapcap', '6': 'opentrons_96_tiprack_1000ul', '8': 'opentrons_24_tuberack_eppendorf_1.5ml_safelock_snapcap', '9': 'opentrons_6_tuberack_falcon_50ml_conical', '11': 'nest_12_reservoir_15ml', '12': 'opentrons_1_trash_1100ml_fixed'}\n",
      "../datasets/json/vhh_purification.ot2.apiv2.json {'1': 'heaterShakerModuleV1', '3': 'nest_12_reservoir_15ml', '5': 'opentrons_96_filtertiprack_200ul', '6': 'opentrons_96_filtertiprack_200ul', '7': 'temperatureModuleV2', '10': 'magneticModuleV2', '12': 'opentrons_1_trash_1100ml_fixed', 'heaterShakerModuleV1': 'opentrons_96_deep_well_adapter_nest_wellplate_2ml_deep', 'magneticModuleV2': 'opentrons_96_aluminumblock_nest_wellplate_100ul', 'temperatureModuleV2': 'opentrons_24_aluminumblock_generic_2ml_screwcap'}\n",
      "../datasets/json/test_drive.ot2.apiv2.json {'1': 'opentrons_24_tuberack_nest_1.5ml_screwcap', '2': 'nest_96_wellplate_2ml_deep', '3': 'nest_12_reservoir_15ml', '4': 'opentrons_96_tiprack_20ul', '5': 'opentrons_96_tiprack_20ul', '7': 'magneticModuleV2', '12': 'opentrons_1_trash_1100ml_fixed'}\n",
      "../datasets/json/thermocycler_csv.ot2.apiv2.json {'12': 'opentrons_1_trash_1100ml_fixed'}\n",
      "../datasets/json/tube_filling.ot2.apiv2.json {'12': 'opentrons_1_trash_1100ml_fixed'}\n",
      "../datasets/json/thermocycler.ot2.apiv2.json {'7': 'thermocyclerModuleV1', '12': 'opentrons_1_trash_1100ml_fixed'}\n",
      "../datasets/json/synthesize.ot2.apiv2.json {'2': 'agilentwithnonskirted_96_wellplate_200ul', '3': 'opentrons_96_filtertiprack_20ul', '4': 'temperatureModuleV2', '7': 'magneticModuleV2', '12': 'opentrons_1_trash_1100ml_fixed', 'temperatureModuleV2': 'quantgene_96_aluminumblock_200ul'}\n",
      "../datasets/json/thermo_magmax_plant_isolation.ot2.apiv2.json {'1': 'magneticModuleV2', '2': 'nest_1_reservoir_195ml', '3': 'nest_12_reservoir_15ml', '4': 'temperatureModuleV2', '5': 'nest_1_reservoir_195ml', '6': 'nest_96_wellplate_2ml_deep', '7': 'opentrons_96_filtertiprack_200ul', '8': 'opentrons_96_filtertiprack_200ul', '9': 'nest_1_reservoir_195ml', '10': 'opentrons_96_filtertiprack_200ul', '11': 'opentrons_96_filtertiprack_200ul', '12': 'opentrons_1_trash_1100ml_fixed', 'magneticModuleV2': 'nest_96_wellplate_2ml_deep', 'temperatureModuleV2': 'nest_96_wellplate_2ml_deep'}\n",
      "../datasets/json/37ffa5.ot2.apiv2.json {'1': 'opentrons_96_tiprack_1000ul', '2': 'opentrons_96_tiprack_300ul', '3': 'corning_96_wellplate_360ul_flat', '4': 'corning_96_wellplate_360ul_flat', '5': 'corning_96_wellplate_360ul_flat', '6': 'corning_96_wellplate_360ul_flat', '7': 'opentrons_24_tuberack_nest_1.5ml_snapcap', '8': 'nest_12_reservoir_15ml', '9': 'corning_96_wellplate_360ul_flat', '12': 'opentrons_1_trash_1100ml_fixed'}\n",
      "../datasets/json/tagment.ot2.apiv2.json {'1': 'biorad_96_wellplate_200ul_pcr', '2': 'biorad_96_wellplate_200ul_pcr', '3': 'opentrons_96_filtertiprack_20ul', '4': 'temperatureModuleV2', '5': 'biorad_96_wellplate_200ul_pcr', '7': 'magneticModuleV2', '9': 'opentrons_96_filtertiprack_200ul', '12': 'opentrons_1_trash_1100ml_fixed', 'temperatureModuleV2': 'opentrons_96_aluminumblock_biorad_wellplate_200ul'}\n"
     ]
    }
   ],
   "source": [
    "folder_path = '../datasets/json'\n",
    "for root, dirs, files in os.walk(folder_path):\n",
    "    for file in files:\n",
    "        file_path = os.path.join(root, file)\n",
    "        deck = {}\n",
    "        \n",
    "        with open(file_path, 'r') as f:\n",
    "            data = json.loads(f.read())\n",
    "            lw = data['labware']\n",
    "            m = data['modules']\n",
    "        \n",
    "        for i in m:\n",
    "            deck[i['location']['slotName']] = i['model'] \n",
    "\n",
    "        for i in lw:\n",
    "            loc = i['location']\n",
    "            \n",
    "            if 'slotName' in loc:\n",
    "                deck[loc['slotName']] = i['loadName']\n",
    "            elif 'moduleId' in loc:\n",
    "                module_name = get_module_name(loc['moduleId'], m)\n",
    "                deck[module_name] = i['loadName']\n",
    "        \n",
    "        deck = {k: deck[k] for k in sorted(deck.keys(), key=sort_key)}\n",
    "        print(file_path, deck)"
   ]
  },
  {
   "cell_type": "code",
   "execution_count": null,
   "metadata": {},
   "outputs": [],
   "source": []
  }
 ],
 "metadata": {
  "kernelspec": {
   "display_name": "base",
   "language": "python",
   "name": "python3"
  },
  "language_info": {
   "codemirror_mode": {
    "name": "ipython",
    "version": 3
   },
   "file_extension": ".py",
   "mimetype": "text/x-python",
   "name": "python",
   "nbconvert_exporter": "python",
   "pygments_lexer": "ipython3",
   "version": "3.10.14"
  }
 },
 "nbformat": 4,
 "nbformat_minor": 2
}
